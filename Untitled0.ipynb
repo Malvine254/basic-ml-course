{
  "nbformat": 4,
  "nbformat_minor": 0,
  "metadata": {
    "colab": {
      "provenance": [],
      "authorship_tag": "ABX9TyOjMyobOegQAdg9mDUuhL3G",
      "include_colab_link": true
    },
    "kernelspec": {
      "name": "python3",
      "display_name": "Python 3"
    },
    "language_info": {
      "name": "python"
    }
  },
  "cells": [
    {
      "cell_type": "markdown",
      "metadata": {
        "id": "view-in-github",
        "colab_type": "text"
      },
      "source": [
        "<a href=\"https://colab.research.google.com/github/Malvine254/basic-ml-course/blob/master/Untitled0.ipynb\" target=\"_parent\"><img src=\"https://colab.research.google.com/assets/colab-badge.svg\" alt=\"Open In Colab\"/></a>"
      ]
    },
    {
      "cell_type": "code",
      "execution_count": 17,
      "metadata": {
        "id": "ZTqjrvNSEp2F"
      },
      "outputs": [],
      "source": [
        "\n",
        "\n"
      ]
    },
    {
      "cell_type": "markdown",
      "source": [
        "#Assignment 1 (1 pt)\n",
        "\n",
        "Write a function is_triangle to check the validity of a triangle. This function should receive 3 parameters corresponding to the length of 3 edges. It should return boolean True if all 3 edges can form a triangle, else it returns False.\n"
      ],
      "metadata": {
        "id": "80Ac4VQRQsP1"
      }
    },
    {
      "cell_type": "code",
      "source": [
        "def is_triangle (a,b,c):\n",
        "  if a+b>=c and b+c>=9 and c+a>=b:\n",
        "    return True\n",
        "  else:\n",
        "    return False"
      ],
      "metadata": {
        "id": "6tGVFu1WReji"
      },
      "execution_count": null,
      "outputs": []
    },
    {
      "cell_type": "markdown",
      "source": [
        "#Assignment 2 (1 pt)\n",
        "\n",
        "Print odd numbers from 1 to 10 using for loop and range.\n",
        "\n",
        "Expected output:\n",
        "\n",
        "1\n",
        "3\n",
        "5\n",
        "7\n",
        "9"
      ],
      "metadata": {
        "id": "5ZW70F1LRpBL"
      }
    },
    {
      "cell_type": "code",
      "source": [
        "for x in range (1,10,2):\n",
        "  print(x)"
      ],
      "metadata": {
        "id": "skIxR4dKRxpP",
        "outputId": "d5cc97bb-5926-4f9b-86ec-78c5d3403f05",
        "colab": {
          "base_uri": "https://localhost:8080/"
        }
      },
      "execution_count": 18,
      "outputs": [
        {
          "output_type": "stream",
          "name": "stdout",
          "text": [
            "1\n",
            "3\n",
            "5\n",
            "7\n",
            "9\n"
          ]
        }
      ]
    },
    {
      "cell_type": "markdown",
      "source": [
        "#Assignment 3 (1 pt)\n",
        "\n",
        "Write a function get_reverse that return a reversed string.\n",
        "\n",
        "Input: Kenya\n",
        "\n",
        "Output: ayneK"
      ],
      "metadata": {
        "id": "m44ZxXu4R8nq"
      }
    },
    {
      "cell_type": "code",
      "source": [
        "def reverse (s):\n",
        "  str = \" \"\n",
        "  "
      ],
      "metadata": {
        "id": "ReNNgyfJSDCq"
      },
      "execution_count": null,
      "outputs": []
    }
  ]
}