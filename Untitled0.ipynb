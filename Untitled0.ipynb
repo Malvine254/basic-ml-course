{
  "nbformat": 4,
  "nbformat_minor": 0,
  "metadata": {
    "colab": {
      "provenance": [],
      "authorship_tag": "ABX9TyOn6CGO2deYOLi0SlNm2h1U",
      "include_colab_link": true
    },
    "kernelspec": {
      "name": "python3",
      "display_name": "Python 3"
    },
    "language_info": {
      "name": "python"
    }
  },
  "cells": [
    {
      "cell_type": "markdown",
      "metadata": {
        "id": "view-in-github",
        "colab_type": "text"
      },
      "source": [
        "<a href=\"https://colab.research.google.com/github/Malvine254/basic-ml-course/blob/master/Untitled0.ipynb\" target=\"_parent\"><img src=\"https://colab.research.google.com/assets/colab-badge.svg\" alt=\"Open In Colab\"/></a>"
      ]
    },
    {
      "cell_type": "code",
      "execution_count": 17,
      "metadata": {
        "id": "ZTqjrvNSEp2F"
      },
      "outputs": [],
      "source": [
        "\n",
        "\n"
      ]
    },
    {
      "cell_type": "markdown",
      "source": [
        "#Assignment 1 (1 pt)\n",
        "\n",
        "Write a function is_triangle to check the validity of a triangle. This function should receive 3 parameters corresponding to the length of 3 edges. It should return boolean True if all 3 edges can form a triangle, else it returns False.\n"
      ],
      "metadata": {
        "id": "80Ac4VQRQsP1"
      }
    },
    {
      "cell_type": "code",
      "source": [
        "def is_triangle (a,b,c):\n",
        "  if a+b>=c and b+c>=9 and c+a>=b:\n",
        "    return True\n",
        "  else:\n",
        "    return False"
      ],
      "metadata": {
        "id": "6tGVFu1WReji"
      },
      "execution_count": null,
      "outputs": []
    },
    {
      "cell_type": "markdown",
      "source": [
        "#Assignment 2 (1 pt)\n",
        "\n",
        "Print odd numbers from 1 to 10 using for loop and range.\n",
        "\n",
        "Expected output:\n",
        "\n",
        "1\n",
        "3\n",
        "5\n",
        "7\n",
        "9"
      ],
      "metadata": {
        "id": "5ZW70F1LRpBL"
      }
    },
    {
      "cell_type": "code",
      "source": [
        "for x in range (1,10,2):\n",
        "  print(x)"
      ],
      "metadata": {
        "colab": {
          "base_uri": "https://localhost:8080/"
        },
        "id": "skIxR4dKRxpP",
        "outputId": "d5cc97bb-5926-4f9b-86ec-78c5d3403f05"
      },
      "execution_count": 18,
      "outputs": [
        {
          "output_type": "stream",
          "name": "stdout",
          "text": [
            "1\n",
            "3\n",
            "5\n",
            "7\n",
            "9\n"
          ]
        }
      ]
    },
    {
      "cell_type": "markdown",
      "source": [
        "#Assignment 3 (1 pt)\n",
        "\n",
        "Write a function get_reverse that return a reversed string.\n",
        "\n",
        "Input: Kenya\n",
        "\n",
        "Output: ayneK"
      ],
      "metadata": {
        "id": "m44ZxXu4R8nq"
      }
    },
    {
      "cell_type": "code",
      "source": [
        "def get_reverses(s):\n",
        " return \"\".join(reversed(s))\n",
        "print(get_reverses(\"Kenya\"));"
      ],
      "metadata": {
        "colab": {
          "base_uri": "https://localhost:8080/"
        },
        "id": "ReNNgyfJSDCq",
        "outputId": "0527acf6-40bf-492d-bf78-29f5d28864dc"
      },
      "execution_count": 26,
      "outputs": [
        {
          "output_type": "stream",
          "name": "stdout",
          "text": [
            "ayneK\n"
          ]
        }
      ]
    },
    {
      "cell_type": "markdown",
      "source": [
        "#Assignment 4 (1 pt)\n",
        "\n",
        "Write a function that return a new set that contains elements that are either in set a or b but not both.\n",
        "\n",
        "set1 = {10, 20, 30, 40, 50}\n",
        "set2 = {30, 40, 50, 60, 70}\n",
        "\n",
        "# Write your code here\n",
        "\n",
        "\n",
        "# Expected output: {10, 20, 60, 70}"
      ],
      "metadata": {
        "id": "7YbtLvBeZH-3"
      }
    },
    {
      "cell_type": "code",
      "source": [
        "set1 = {10, 20, 30, 40, 50}\n",
        "set2 = {30, 40, 50, 60, 70}\n",
        "\n",
        "set3 = set1.symmetric_difference(set2)\n",
        "\n",
        "print(set3)"
      ],
      "metadata": {
        "id": "Pt_JvrKwZ8mu",
        "outputId": "de2f4d40-4567-4595-b34d-a580e8291893",
        "colab": {
          "base_uri": "https://localhost:8080/"
        }
      },
      "execution_count": 45,
      "outputs": [
        {
          "output_type": "stream",
          "name": "stdout",
          "text": [
            "{20, 70, 10, 60}\n"
          ]
        }
      ]
    },
    {
      "cell_type": "markdown",
      "source": [
        "#Assignment 5 (1 pt)\n",
        "\n",
        "Write a function remove_from_list that remove all occurrances of a value from a list.\n",
        "\n",
        "def remove_from_list(input_list, value):\n",
        "    # Write your code here\n",
        "    pass  # Remove this line\n",
        "\n",
        "a = [10, 20, 10, 30, 40, 50, 10, 0]\n",
        "remove_from_list(a, 10)\n",
        "print(a)  # Expected output: [20, 30, 40, 50, 0]"
      ],
      "metadata": {
        "id": "U6KuMdjib_WN"
      }
    },
    {
      "cell_type": "code",
      "source": [
        "\n",
        "def remove_items(test_list, item):\n",
        "\n",
        "\tres = [i for i in test_list if i != item]\n",
        "\n",
        "\treturn res\n",
        "if __name__ == \"__main__\":\n",
        "\n",
        "\ttest_list =  [10, 20, 10, 30, 40, 50, 10, 0]\n",
        "\titem = 10\n",
        "\n",
        "\n",
        "\tres = remove_items(test_list, item)\n",
        "\n",
        "\tprint(str(res))\n"
      ],
      "metadata": {
        "id": "weCptiVncx5N",
        "outputId": "6bde7484-e767-4ebc-8a85-50b9c18c5cb7",
        "colab": {
          "base_uri": "https://localhost:8080/"
        }
      },
      "execution_count": 38,
      "outputs": [
        {
          "output_type": "stream",
          "name": "stdout",
          "text": [
            "[20, 30, 40, 50, 0]\n"
          ]
        }
      ]
    },
    {
      "cell_type": "markdown",
      "source": [
        "#Assignment 6 (1 pt)\n",
        "\n",
        "Complete the following class by: (1 pt)\n",
        "\n",
        "Write code that assign name and score to the object.\n",
        "Write method get_score that return score attribute of the object.\n",
        "Write method describe that print <student name>: <student score>."
      ],
      "metadata": {
        "id": "U_wzunmWeWx7"
      }
    },
    {
      "cell_type": "code",
      "source": [
        "class Student:\n",
        "    def _init_(self, name, score):\n",
        "        self.name = name\n",
        "        self.score = score\n",
        "\n",
        "    def get_score(self):\n",
        "        return self.score\n",
        "      \n",
        "    \n",
        "    def describe(self):\n",
        "        return self.name + \":\"  + self.score\n",
        "        student = Student(\"John\", 85)\n",
        "        print(student.get_score()) \n",
        "        \n",
        "        "
      ],
      "metadata": {
        "id": "Z57epAspekTc"
      },
      "execution_count": 48,
      "outputs": []
    },
    {
      "cell_type": "markdown",
      "source": [
        "#Assignment 7 (1 pt)\n",
        "\n",
        "Complete the Employee class by:\n",
        "\n",
        "Write code that calls the __init__ method of the base class to initialize attributes.\n",
        "Write a speak method that receives a word as its parameter and outputs \"Employee <employee name> spoke <word>\"\n",
        "class Person:\n",
        "    def __init__(self, name):\n",
        "        self.name = name\n",
        "\n",
        "    def speak(self):\n",
        "        return \"Person \" + self.name + \" spoke something.\"\n",
        "\n",
        "class Employee(Person):\n",
        "    def __init__(self, name):\n",
        "        # Write your code here\n",
        "        pass  # Remove this line\n",
        "\n",
        "    def speak(self, word):\n",
        "        # Write your code here\n",
        "        pass\n",
        "\n",
        "employee = Employee(\"David\")\n",
        "print(employee.speak(\"hello\"))  # Expected output: \"Employee David spoke hello\"\n",
        "Assignment 8 (1 pt)\n",
        "Print all the key-value pairs of a dictionary using for loop. Each line is a key-value pair.\n",
        "\n",
        "Hint: to get all the keys of a dictionary, use .keys().\n",
        "\n",
        "country_capital = {\n",
        "    \"japan\": \"tokyo\",\n",
        "    \"vietnam\": \"hanoi\",\n",
        "    \"france\": \"paris\"\n",
        "}\n",
        "\n",
        "# Write your code here.\n",
        "\n",
        "\n",
        "# Expected output:\n",
        "\"\"\"\n",
        "japan - tokyo\n",
        "vietnam - hanoi\n",
        "france - paris\n",
        "\"\"\""
      ],
      "metadata": {
        "id": "Gl3CMX6nflLg"
      }
    },
    {
      "cell_type": "markdown",
      "source": [],
      "metadata": {
        "id": "e2G69w8Vh3gg"
      }
    },
    {
      "cell_type": "code",
      "source": [
        "class Person:\n",
        "    def _init_(self, name):\n",
        "        self.name = name\n",
        "\n",
        "    def speak(self):\n",
        "        return \"Person \" + self.name + \" spoke something.\"\n",
        "\n",
        "class Employee(Person):\n",
        "    def _init_(self, name):\n",
        "      Person._init_(self, name)\n",
        "      self.name = name\n",
        "\n",
        "    def speak(self, word):\n",
        "        self.word = word\n",
        "        return f\"Employee {self.name} spoke {self.word}\""
      ],
      "metadata": {
        "id": "S4Ds2LYphOA8"
      },
      "execution_count": 53,
      "outputs": []
    },
    {
      "cell_type": "markdown",
      "source": [
        "#Assignment 8 (1 pt)\n",
        "\n",
        "Print all the key-value pairs of a dictionary using for loop. Each line is a key-value pair.\n",
        "\n",
        "Hint: to get all the keys of a dictionary, use .keys().\n",
        "\n",
        "country_capital = {\n",
        "    \"japan\": \"tokyo\",\n",
        "    \"vietnam\": \"hanoi\",\n",
        "    \"france\": \"paris\"\n",
        "}\n",
        "\n",
        "# Write your code here.\n",
        "\n",
        "\n",
        "# Expected output:\n",
        "\"\"\"\n",
        "japan - tokyo\n",
        "vietnam - hanoi\n",
        "france - paris\n",
        "\"\"\""
      ],
      "metadata": {
        "id": "helOqr_5h8T3"
      }
    },
    {
      "cell_type": "code",
      "source": [
        "country_capital = {\n",
        "    \"japan\": \"tokyo\",\n",
        "    \"vietnam\": \"hanoi\",\n",
        "    \"france\": \"paris\"\n",
        "}\n",
        "\n",
        "for x in country_capital:\n",
        "  print(x + \" - \" + country_capital[key])"
      ],
      "metadata": {
        "id": "u_-W50xLiF4_",
        "outputId": "8a421dcb-a8c2-4304-a760-1e82787fd8fe",
        "colab": {
          "base_uri": "https://localhost:8080/",
          "height": 200
        }
      },
      "execution_count": 62,
      "outputs": [
        {
          "output_type": "error",
          "ename": "KeyError",
          "evalue": "ignored",
          "traceback": [
            "\u001b[0;31m---------------------------------------------------------------------------\u001b[0m",
            "\u001b[0;31mKeyError\u001b[0m                                  Traceback (most recent call last)",
            "\u001b[0;32m<ipython-input-62-cda7d9363363>\u001b[0m in \u001b[0;36m<module>\u001b[0;34m\u001b[0m\n\u001b[1;32m      6\u001b[0m \u001b[0;34m\u001b[0m\u001b[0m\n\u001b[1;32m      7\u001b[0m \u001b[0;32mfor\u001b[0m \u001b[0mx\u001b[0m \u001b[0;32min\u001b[0m \u001b[0mcountry_capital\u001b[0m\u001b[0;34m:\u001b[0m\u001b[0;34m\u001b[0m\u001b[0;34m\u001b[0m\u001b[0m\n\u001b[0;32m----> 8\u001b[0;31m   \u001b[0mprint\u001b[0m\u001b[0;34m(\u001b[0m\u001b[0mx\u001b[0m \u001b[0;34m+\u001b[0m \u001b[0;34m\" - \"\u001b[0m \u001b[0;34m+\u001b[0m \u001b[0mcountry_capital\u001b[0m\u001b[0;34m[\u001b[0m\u001b[0;36m0\u001b[0m\u001b[0;34m]\u001b[0m\u001b[0;34m)\u001b[0m\u001b[0;34m\u001b[0m\u001b[0;34m\u001b[0m\u001b[0m\n\u001b[0m",
            "\u001b[0;31mKeyError\u001b[0m: 0"
          ]
        }
      ]
    },
    {
      "cell_type": "markdown",
      "source": [
        "#Assignment 9 (2 pt)\n",
        "\n",
        "Write a function solve_equation to solve equation ax^2 + bx + c = 0. (1 pt)\n",
        "\n",
        "If equation has no solutions, print No solution.\n",
        "If equation has one solution, print Equation has one solution <x> (<x> is the value of the solution)\n",
        "If equation has two solutions, print Equation has two solutions <x1> and <x2> (<x1> and <x2> are the values of the solution)\n",
        "def solve_equation(a, b, c):\n",
        "    # Write your code here\n",
        "    pass\n",
        "    "
      ],
      "metadata": {
        "id": "Rdl4Viy1kF6A"
      }
    },
    {
      "cell_type": "code",
      "source": [
        "import math\n",
        "\n",
        "def solve_equation(a, b, c):\n",
        "\n",
        "    discriminant = b * b - 4 * a * c\n",
        "\n",
        "    sqrt_dis = math.sqrt(abs(discriminant))\n",
        "\n",
        "\n",
        "    if discriminant > 0:\n",
        "        print(\" Equation has two solutions\") \n",
        "        print(str((-b + sqrt_dis)/(2 * a))) \n",
        "        print(str((-b - sqrt_dis)/(2 * a))) \n",
        "\n",
        "\n",
        "    elif discriminant == 0:\n",
        "        print(\" Equation has one solution: \" + str(-b / (2 * a)) ) \n",
        "  \n",
        "    else:\n",
        "        print(\"Equation has no solution\") \n",
        "    \n",
        "\n",
        "solve_equation(1,14,49)"
      ],
      "metadata": {
        "id": "8HmPPYPqkOez",
        "outputId": "5b35d5c0-5b8a-4135-aab0-79216e513fce",
        "colab": {
          "base_uri": "https://localhost:8080/"
        }
      },
      "execution_count": 63,
      "outputs": [
        {
          "output_type": "stream",
          "name": "stdout",
          "text": [
            " Equation has one solution: -7.0\n"
          ]
        }
      ]
    }
  ]
}