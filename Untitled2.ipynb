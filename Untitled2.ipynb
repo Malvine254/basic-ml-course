{
  "nbformat": 4,
  "nbformat_minor": 0,
  "metadata": {
    "colab": {
      "provenance": [],
      "collapsed_sections": [],
      "authorship_tag": "ABX9TyNyiAKj6dRtTCkmulYqnAtN",
      "include_colab_link": true
    },
    "kernelspec": {
      "name": "python3",
      "display_name": "Python 3"
    },
    "language_info": {
      "name": "python"
    }
  },
  "cells": [
    {
      "cell_type": "markdown",
      "metadata": {
        "id": "view-in-github",
        "colab_type": "text"
      },
      "source": [
        "<a href=\"https://colab.research.google.com/github/Malvine254/basic-ml-course/blob/master/Untitled2.ipynb\" target=\"_parent\"><img src=\"https://colab.research.google.com/assets/colab-badge.svg\" alt=\"Open In Colab\"/></a>"
      ]
    },
    {
      "cell_type": "code",
      "execution_count": 59,
      "metadata": {
        "id": "tffpYbj3V1sy"
      },
      "outputs": [],
      "source": []
    },
    {
      "cell_type": "markdown",
      "source": [
        "#Learning the parameters (coefficients and intercept)."
      ],
      "metadata": {
        "id": "772ys1cC5laO"
      }
    },
    {
      "cell_type": "code",
      "source": [
        "import numpy as np\n",
        "from sklearn.linear_model import LinearRegression\n",
        "\n",
        "def training(X,y):\n",
        "  model = LinearRegression().fit(X,y)\n",
        "  intercept=model.intercept_\n",
        "  coefficients=model.coef_\n",
        "  print(f\"intercept:{intercept}\")\n",
        "  print(f\"coefficients:{coefficients}\")\n",
        "  # return intercept,coefficients\n",
        "  # return coefficients, intercept \n",
        "training(X,y)"
      ],
      "metadata": {
        "id": "-7j8mSI95n0n"
      },
      "execution_count": null,
      "outputs": []
    },
    {
      "cell_type": "code",
      "source": [],
      "metadata": {
        "id": "246J77xftlRI"
      },
      "execution_count": null,
      "outputs": []
    }
  ]
}